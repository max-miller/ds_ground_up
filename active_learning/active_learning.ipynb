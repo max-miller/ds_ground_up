{
 "cells": [
  {
   "cell_type": "code",
   "execution_count": 1,
   "metadata": {},
   "outputs": [],
   "source": [
    "import pandas as pd\n",
    "import numpy as np\n",
    "import matplotlib.pyplot as plt\n",
    "from sklearn.neural_network import MLPClassifier\n",
    "from sklearn.svm import SVC\n",
    "from sklearn.metrics import accuracy_score\n",
    "\n",
    "from sklearn.datasets import fetch_mldata"
   ]
  },
  {
   "cell_type": "code",
   "execution_count": 264,
   "metadata": {},
   "outputs": [],
   "source": [
    "mnist = pd.read_csv('mnist_train.csv')"
   ]
  },
  {
   "cell_type": "code",
   "execution_count": 265,
   "metadata": {},
   "outputs": [],
   "source": [
    "mnist.rename({'5':'label'},axis=1,inplace=True)\n",
    "# mnist.head(10)"
   ]
  },
  {
   "cell_type": "code",
   "execution_count": 266,
   "metadata": {},
   "outputs": [],
   "source": [
    "y = mnist['label']\n",
    "x = mnist.drop('label', axis=1)"
   ]
  },
  {
   "cell_type": "code",
   "execution_count": 346,
   "metadata": {},
   "outputs": [],
   "source": [
    "def find_most_uncertain(model, X, n):\n",
    "    probs = model.predict_proba(X)\n",
    "    prob_maxs = []\n",
    "    for i in range(0,len(probs)):\n",
    "        prob_maxs.append((i,max(probs[i])))\n",
    "    \n",
    "    prob_maxs.sort(key = lambda x: x[1])\n",
    "    return [x[0] for x in prob_maxs[:n]]\n",
    "\n",
    "def sample_df_updates(X,y,n_sample):\n",
    "    sample_indices = np.random.choice(len(X),n_sample, replace=False)\n",
    "    X_sample = X.iloc[sample_indices]\n",
    "    y_sample = y.iloc[sample_indices]\n",
    "    X.drop(X.index[sample_indices],inplace=True)\n",
    "    y.drop(y.index[sample_indices],inplace=True)\n",
    "\n",
    "    return X_sample, y_sample, X, y\n",
    "\n",
    "\n",
    "def sample_from_uncertain(X,y,n_sample,model):\n",
    "    sample_indices = find_most_uncertain(model, X, n_sample)\n",
    "    X_sample = X.iloc[sample_indices]\n",
    "    y_sample = y.iloc[sample_indices]\n",
    "    X.drop(X.index[sample_indices],inplace=True)\n",
    "    y.drop(y.index[sample_indices],inplace=True)\n",
    "\n",
    "    return X_sample, y_sample, X, y"
   ]
  },
  {
   "cell_type": "code",
   "execution_count": 436,
   "metadata": {},
   "outputs": [],
   "source": [
    "def mlp_active_random(X,y,n_start,n_step,n_test):\n",
    "    X_test,y_test,x,y = sample_df_updates(X,y,n_test)\n",
    "    mlp = MLPClassifier(hidden_layer_sizes=(300,300))\n",
    "    X_sample, y_sample, X, y = sample_df_updates(X,y,n_start)\n",
    "    mlp.fit(X_sample,y_sample)\n",
    "    y_pred = mlp.predict(X_test)\n",
    "    accuracy = accuracy_score(y_pred,y_test)\n",
    "    sample_count = n_start\n",
    "    sample_count_list = [sample_count]\n",
    "    accuracies = [accuracy]\n",
    "    searching = True\n",
    "    \n",
    "    while searching == True:\n",
    "        mlp = MLPClassifier(hidden_layer_sizes=(300,300),warm_start=True)\n",
    "        X_temp, y_temp, X, y = sample_df_updates(X,y,n_step)\n",
    "        X_sample = pd.concat([X_sample,X_temp])\n",
    "        y_sample = pd.concat([y_sample,y_temp])\n",
    "        mlp.fit(X_sample,y_sample)\n",
    "        y_pred = mlp.predict(X_test)\n",
    "        accuracy = accuracy_score(y_pred,y_test)\n",
    "        sample_count += n_step\n",
    "        accuracies.append(accuracy)\n",
    "        sample_count_list.append(sample_count)\n",
    "        if accuracy > .95:\n",
    "            searching = False\n",
    "        \n",
    "    print(f'Final samples : {sample_count}')\n",
    "    print(f'Final accuracy : {accuracy}')\n",
    "    plt.plot(sample_count_list,accuracies)"
   ]
  },
  {
   "cell_type": "code",
   "execution_count": 297,
   "metadata": {
    "scrolled": true
   },
   "outputs": [
    {
     "name": "stdout",
     "output_type": "stream",
     "text": [
      "Final samples : 14500\n",
      "Final accuracy : 0.95125\n"
     ]
    },
    {
     "data": {
      "image/png": "[encoded data removed]",
      "text/plain": [
       "<Figure size 432x288 with 1 Axes>"
      ]
     },
     "metadata": {
      "needs_background": "light"
     },
     "output_type": "display_data"
    }
   ],
   "source": [
    "mlp_active_random(x,y,500,500,4000)"
   ]
  },
  {
   "cell_type": "code",
   "execution_count": 279,
   "metadata": {},
   "outputs": [],
   "source": [
    "def mlp_active_probability(X,y,n_start,n_step,n_test):\n",
    "    X_test,y_test,x,y = sample_df_updates(X,y,n_test)\n",
    "    mlp = MLPClassifier(hidden_layer_sizes=(300,300))\n",
    "    X_sample, y_sample, X, y = sample_df_updates(X,y,n_start)\n",
    "    mlp.fit(X_sample,y_sample)\n",
    "    y_pred = mlp.predict(X_test)\n",
    "    accuracy = accuracy_score(y_pred,y_test)\n",
    "    sample_count = n_start\n",
    "    sample_count_list = [sample_count]\n",
    "    accuracies = [accuracy]\n",
    "    \n",
    "    searching = True\n",
    "    \n",
    "    while searching == True:\n",
    "        X_temp, y_temp, X, y = sample_from_uncertain(X,y,n_step,mlp)\n",
    "        \n",
    "        mlp = MLPClassifier(hidden_layer_sizes=(300,300),warm_start=True)\n",
    "        \n",
    "        X_sample = pd.concat([X_sample,X_temp])\n",
    "        y_sample = pd.concat([y_sample,y_temp])\n",
    "        mlp.fit(X_sample,y_sample)\n",
    "        y_pred = mlp.predict(X_test)\n",
    "        accuracy = accuracy_score(y_pred,y_test)\n",
    "        sample_count += n_step\n",
    "        accuracies.append(accuracy)\n",
    "        sample_count_list.append(sample_count)\n",
    "        if accuracy >.95:\n",
    "            searching = False\n",
    "        \n",
    "    print(f'Final samples : {sample_count}')\n",
    "    print(f'Final accuracy : {accuracy}')\n",
    "    plt.plot(sample_count_list,accuracies)\n",
    "    "
   ]
  },
  {
   "cell_type": "code",
   "execution_count": 374,
   "metadata": {},
   "outputs": [],
   "source": [
    "mnist = pd.read_csv('mnist_train.csv')\n",
    "mnist.rename({'5':'label'},axis=1,inplace=True)\n",
    "y = mnist['label']\n",
    "x = mnist.drop('label', axis=1)"
   ]
  },
  {
   "cell_type": "code",
   "execution_count": 281,
   "metadata": {},
   "outputs": [
    {
     "name": "stdout",
     "output_type": "stream",
     "text": [
      "Final samples : 9500\n",
      "Final accuracy : 0.956\n"
     ]
    },
    {
     "data": {
      "image/png": "[encoded data removed]",
      "text/plain": [
       "<Figure size 432x288 with 1 Axes>"
      ]
     },
     "metadata": {
      "needs_background": "light"
     },
     "output_type": "display_data"
    }
   ],
   "source": [
    "mlp_active_probability(x,y,500,500,4000)"
   ]
  },
  {
   "cell_type": "code",
   "execution_count": 323,
   "metadata": {},
   "outputs": [],
   "source": [
    "def euclidian_distance(array_1,array_2):\n",
    "    dist = 0\n",
    "    for n in range(0,len(array_1)):\n",
    "        dist += (array_1[n] - array_2[n])**2\n",
    "    return dist"
   ]
  },
  {
   "cell_type": "code",
   "execution_count": 302,
   "metadata": {},
   "outputs": [],
   "source": [
    "y_pred_test = mlp.predict(x[:100])"
   ]
  },
  {
   "cell_type": "code",
   "execution_count": 307,
   "metadata": {},
   "outputs": [
    {
     "data": {
      "text/html": [
       "<div>\n",
       "<style scoped>\n",
       "    .dataframe tbody tr th:only-of-type {\n",
       "        vertical-align: middle;\n",
       "    }\n",
       "\n",
       "    .dataframe tbody tr th {\n",
       "        vertical-align: top;\n",
       "    }\n",
       "\n",
       "    .dataframe thead th {\n",
       "        text-align: right;\n",
       "    }\n",
       "</style>\n",
       "<table border=\"1\" class=\"dataframe\">\n",
       "  <thead>\n",
       "    <tr style=\"text-align: right;\">\n",
       "      <th></th>\n",
       "      <th>0</th>\n",
       "      <th>0.1</th>\n",
       "      <th>0.2</th>\n",
       "      <th>0.3</th>\n",
       "      <th>0.4</th>\n",
       "      <th>0.5</th>\n",
       "      <th>0.6</th>\n",
       "      <th>0.7</th>\n",
       "      <th>0.8</th>\n",
       "      <th>0.9</th>\n",
       "      <th>...</th>\n",
       "      <th>0.608</th>\n",
       "      <th>0.609</th>\n",
       "      <th>0.610</th>\n",
       "      <th>0.611</th>\n",
       "      <th>0.612</th>\n",
       "      <th>0.613</th>\n",
       "      <th>0.614</th>\n",
       "      <th>0.615</th>\n",
       "      <th>0.616</th>\n",
       "      <th>0.617</th>\n",
       "    </tr>\n",
       "  </thead>\n",
       "  <tbody>\n",
       "    <tr>\n",
       "      <th>0</th>\n",
       "      <td>0</td>\n",
       "      <td>0</td>\n",
       "      <td>0</td>\n",
       "      <td>0</td>\n",
       "      <td>0</td>\n",
       "      <td>0</td>\n",
       "      <td>0</td>\n",
       "      <td>0</td>\n",
       "      <td>0</td>\n",
       "      <td>0</td>\n",
       "      <td>...</td>\n",
       "      <td>0</td>\n",
       "      <td>0</td>\n",
       "      <td>0</td>\n",
       "      <td>0</td>\n",
       "      <td>0</td>\n",
       "      <td>0</td>\n",
       "      <td>0</td>\n",
       "      <td>0</td>\n",
       "      <td>0</td>\n",
       "      <td>0</td>\n",
       "    </tr>\n",
       "    <tr>\n",
       "      <th>20</th>\n",
       "      <td>0</td>\n",
       "      <td>0</td>\n",
       "      <td>0</td>\n",
       "      <td>0</td>\n",
       "      <td>0</td>\n",
       "      <td>0</td>\n",
       "      <td>0</td>\n",
       "      <td>0</td>\n",
       "      <td>0</td>\n",
       "      <td>0</td>\n",
       "      <td>...</td>\n",
       "      <td>0</td>\n",
       "      <td>0</td>\n",
       "      <td>0</td>\n",
       "      <td>0</td>\n",
       "      <td>0</td>\n",
       "      <td>0</td>\n",
       "      <td>0</td>\n",
       "      <td>0</td>\n",
       "      <td>0</td>\n",
       "      <td>0</td>\n",
       "    </tr>\n",
       "    <tr>\n",
       "      <th>50</th>\n",
       "      <td>0</td>\n",
       "      <td>0</td>\n",
       "      <td>0</td>\n",
       "      <td>0</td>\n",
       "      <td>0</td>\n",
       "      <td>0</td>\n",
       "      <td>0</td>\n",
       "      <td>0</td>\n",
       "      <td>0</td>\n",
       "      <td>0</td>\n",
       "      <td>...</td>\n",
       "      <td>0</td>\n",
       "      <td>0</td>\n",
       "      <td>0</td>\n",
       "      <td>0</td>\n",
       "      <td>0</td>\n",
       "      <td>0</td>\n",
       "      <td>0</td>\n",
       "      <td>0</td>\n",
       "      <td>0</td>\n",
       "      <td>0</td>\n",
       "    </tr>\n",
       "    <tr>\n",
       "      <th>55</th>\n",
       "      <td>0</td>\n",
       "      <td>0</td>\n",
       "      <td>0</td>\n",
       "      <td>0</td>\n",
       "      <td>0</td>\n",
       "      <td>0</td>\n",
       "      <td>0</td>\n",
       "      <td>0</td>\n",
       "      <td>0</td>\n",
       "      <td>0</td>\n",
       "      <td>...</td>\n",
       "      <td>0</td>\n",
       "      <td>0</td>\n",
       "      <td>0</td>\n",
       "      <td>0</td>\n",
       "      <td>0</td>\n",
       "      <td>0</td>\n",
       "      <td>0</td>\n",
       "      <td>0</td>\n",
       "      <td>0</td>\n",
       "      <td>0</td>\n",
       "    </tr>\n",
       "    <tr>\n",
       "      <th>63</th>\n",
       "      <td>0</td>\n",
       "      <td>0</td>\n",
       "      <td>0</td>\n",
       "      <td>0</td>\n",
       "      <td>0</td>\n",
       "      <td>0</td>\n",
       "      <td>0</td>\n",
       "      <td>0</td>\n",
       "      <td>0</td>\n",
       "      <td>0</td>\n",
       "      <td>...</td>\n",
       "      <td>0</td>\n",
       "      <td>0</td>\n",
       "      <td>0</td>\n",
       "      <td>0</td>\n",
       "      <td>0</td>\n",
       "      <td>0</td>\n",
       "      <td>0</td>\n",
       "      <td>0</td>\n",
       "      <td>0</td>\n",
       "      <td>0</td>\n",
       "    </tr>\n",
       "    <tr>\n",
       "      <th>67</th>\n",
       "      <td>0</td>\n",
       "      <td>0</td>\n",
       "      <td>0</td>\n",
       "      <td>0</td>\n",
       "      <td>0</td>\n",
       "      <td>0</td>\n",
       "      <td>0</td>\n",
       "      <td>0</td>\n",
       "      <td>0</td>\n",
       "      <td>0</td>\n",
       "      <td>...</td>\n",
       "      <td>0</td>\n",
       "      <td>0</td>\n",
       "      <td>0</td>\n",
       "      <td>0</td>\n",
       "      <td>0</td>\n",
       "      <td>0</td>\n",
       "      <td>0</td>\n",
       "      <td>0</td>\n",
       "      <td>0</td>\n",
       "      <td>0</td>\n",
       "    </tr>\n",
       "    <tr>\n",
       "      <th>68</th>\n",
       "      <td>0</td>\n",
       "      <td>0</td>\n",
       "      <td>0</td>\n",
       "      <td>0</td>\n",
       "      <td>0</td>\n",
       "      <td>0</td>\n",
       "      <td>0</td>\n",
       "      <td>0</td>\n",
       "      <td>0</td>\n",
       "      <td>0</td>\n",
       "      <td>...</td>\n",
       "      <td>0</td>\n",
       "      <td>0</td>\n",
       "      <td>0</td>\n",
       "      <td>0</td>\n",
       "      <td>0</td>\n",
       "      <td>0</td>\n",
       "      <td>0</td>\n",
       "      <td>0</td>\n",
       "      <td>0</td>\n",
       "      <td>0</td>\n",
       "    </tr>\n",
       "    <tr>\n",
       "      <th>74</th>\n",
       "      <td>0</td>\n",
       "      <td>0</td>\n",
       "      <td>0</td>\n",
       "      <td>0</td>\n",
       "      <td>0</td>\n",
       "      <td>0</td>\n",
       "      <td>0</td>\n",
       "      <td>0</td>\n",
       "      <td>0</td>\n",
       "      <td>0</td>\n",
       "      <td>...</td>\n",
       "      <td>0</td>\n",
       "      <td>0</td>\n",
       "      <td>0</td>\n",
       "      <td>0</td>\n",
       "      <td>0</td>\n",
       "      <td>0</td>\n",
       "      <td>0</td>\n",
       "      <td>0</td>\n",
       "      <td>0</td>\n",
       "      <td>0</td>\n",
       "    </tr>\n",
       "    <tr>\n",
       "      <th>87</th>\n",
       "      <td>0</td>\n",
       "      <td>0</td>\n",
       "      <td>0</td>\n",
       "      <td>0</td>\n",
       "      <td>0</td>\n",
       "      <td>0</td>\n",
       "      <td>0</td>\n",
       "      <td>0</td>\n",
       "      <td>0</td>\n",
       "      <td>0</td>\n",
       "      <td>...</td>\n",
       "      <td>0</td>\n",
       "      <td>0</td>\n",
       "      <td>0</td>\n",
       "      <td>0</td>\n",
       "      <td>0</td>\n",
       "      <td>0</td>\n",
       "      <td>0</td>\n",
       "      <td>0</td>\n",
       "      <td>0</td>\n",
       "      <td>0</td>\n",
       "    </tr>\n",
       "    <tr>\n",
       "      <th>107</th>\n",
       "      <td>0</td>\n",
       "      <td>0</td>\n",
       "      <td>0</td>\n",
       "      <td>0</td>\n",
       "      <td>0</td>\n",
       "      <td>0</td>\n",
       "      <td>0</td>\n",
       "      <td>0</td>\n",
       "      <td>0</td>\n",
       "      <td>0</td>\n",
       "      <td>...</td>\n",
       "      <td>0</td>\n",
       "      <td>0</td>\n",
       "      <td>0</td>\n",
       "      <td>0</td>\n",
       "      <td>0</td>\n",
       "      <td>0</td>\n",
       "      <td>0</td>\n",
       "      <td>0</td>\n",
       "      <td>0</td>\n",
       "      <td>0</td>\n",
       "    </tr>\n",
       "    <tr>\n",
       "      <th>117</th>\n",
       "      <td>0</td>\n",
       "      <td>0</td>\n",
       "      <td>0</td>\n",
       "      <td>0</td>\n",
       "      <td>0</td>\n",
       "      <td>0</td>\n",
       "      <td>0</td>\n",
       "      <td>0</td>\n",
       "      <td>0</td>\n",
       "      <td>0</td>\n",
       "      <td>...</td>\n",
       "      <td>0</td>\n",
       "      <td>0</td>\n",
       "      <td>0</td>\n",
       "      <td>0</td>\n",
       "      <td>0</td>\n",
       "      <td>0</td>\n",
       "      <td>0</td>\n",
       "      <td>0</td>\n",
       "      <td>0</td>\n",
       "      <td>0</td>\n",
       "    </tr>\n",
       "    <tr>\n",
       "      <th>118</th>\n",
       "      <td>0</td>\n",
       "      <td>0</td>\n",
       "      <td>0</td>\n",
       "      <td>0</td>\n",
       "      <td>0</td>\n",
       "      <td>0</td>\n",
       "      <td>0</td>\n",
       "      <td>0</td>\n",
       "      <td>0</td>\n",
       "      <td>0</td>\n",
       "      <td>...</td>\n",
       "      <td>0</td>\n",
       "      <td>0</td>\n",
       "      <td>0</td>\n",
       "      <td>0</td>\n",
       "      <td>0</td>\n",
       "      <td>0</td>\n",
       "      <td>0</td>\n",
       "      <td>0</td>\n",
       "      <td>0</td>\n",
       "      <td>0</td>\n",
       "    </tr>\n",
       "    <tr>\n",
       "      <th>120</th>\n",
       "      <td>0</td>\n",
       "      <td>0</td>\n",
       "      <td>0</td>\n",
       "      <td>0</td>\n",
       "      <td>0</td>\n",
       "      <td>0</td>\n",
       "      <td>0</td>\n",
       "      <td>0</td>\n",
       "      <td>0</td>\n",
       "      <td>0</td>\n",
       "      <td>...</td>\n",
       "      <td>0</td>\n",
       "      <td>0</td>\n",
       "      <td>0</td>\n",
       "      <td>0</td>\n",
       "      <td>0</td>\n",
       "      <td>0</td>\n",
       "      <td>0</td>\n",
       "      <td>0</td>\n",
       "      <td>0</td>\n",
       "      <td>0</td>\n",
       "    </tr>\n",
       "  </tbody>\n",
       "</table>\n",
       "<p>13 rows × 784 columns</p>\n",
       "</div>"
      ],
      "text/plain": [
       "     0  0.1  0.2  0.3  0.4  0.5  0.6  0.7  0.8  0.9  ...    0.608  0.609  \\\n",
       "0    0    0    0    0    0    0    0    0    0    0  ...        0      0   \n",
       "20   0    0    0    0    0    0    0    0    0    0  ...        0      0   \n",
       "50   0    0    0    0    0    0    0    0    0    0  ...        0      0   \n",
       "55   0    0    0    0    0    0    0    0    0    0  ...        0      0   \n",
       "63   0    0    0    0    0    0    0    0    0    0  ...        0      0   \n",
       "67   0    0    0    0    0    0    0    0    0    0  ...        0      0   \n",
       "68   0    0    0    0    0    0    0    0    0    0  ...        0      0   \n",
       "74   0    0    0    0    0    0    0    0    0    0  ...        0      0   \n",
       "87   0    0    0    0    0    0    0    0    0    0  ...        0      0   \n",
       "107  0    0    0    0    0    0    0    0    0    0  ...        0      0   \n",
       "117  0    0    0    0    0    0    0    0    0    0  ...        0      0   \n",
       "118  0    0    0    0    0    0    0    0    0    0  ...        0      0   \n",
       "120  0    0    0    0    0    0    0    0    0    0  ...        0      0   \n",
       "\n",
       "     0.610  0.611  0.612  0.613  0.614  0.615  0.616  0.617  \n",
       "0        0      0      0      0      0      0      0      0  \n",
       "20       0      0      0      0      0      0      0      0  \n",
       "50       0      0      0      0      0      0      0      0  \n",
       "55       0      0      0      0      0      0      0      0  \n",
       "63       0      0      0      0      0      0      0      0  \n",
       "67       0      0      0      0      0      0      0      0  \n",
       "68       0      0      0      0      0      0      0      0  \n",
       "74       0      0      0      0      0      0      0      0  \n",
       "87       0      0      0      0      0      0      0      0  \n",
       "107      0      0      0      0      0      0      0      0  \n",
       "117      0      0      0      0      0      0      0      0  \n",
       "118      0      0      0      0      0      0      0      0  \n",
       "120      0      0      0      0      0      0      0      0  \n",
       "\n",
       "[13 rows x 784 columns]"
      ]
     },
     "execution_count": 307,
     "metadata": {},
     "output_type": "execute_result"
    }
   ],
   "source": [
    "x[:100][y_pred_test == 0 ]"
   ]
  },
  {
   "cell_type": "code",
   "execution_count": 327,
   "metadata": {},
   "outputs": [
    {
     "name": "stdout",
     "output_type": "stream",
     "text": [
      "7653668\n",
      "7388793\n",
      "7559415\n",
      "7505612\n",
      "7195240\n",
      "7290739\n",
      "7231095\n",
      "7819459\n",
      "7965476\n",
      "7263045\n",
      "7093141\n",
      "7238579\n",
      "7246510\n",
      "7531690\n",
      "7352232\n",
      "7477842\n",
      "7091066\n",
      "7333682\n",
      "6026214\n",
      "7628944\n",
      "7309889\n"
     ]
    }
   ],
   "source": [
    "x[:100][y_pred_test == 1]\n",
    "for n in range(0,len(x[:100][y_pred_test == 1])):\n",
    "    print(euclidian_distance(x.iloc[0],x[:100][y_pred_test == 1].iloc[n]))"
   ]
  },
  {
   "cell_type": "code",
   "execution_count": 330,
   "metadata": {},
   "outputs": [],
   "source": [
    "def distance_to_closest_neighbor(point, df):\n",
    "    dists = []\n",
    "    for n in range(0,len(df)):\n",
    "        dists.append(euclidian_distance(point,df.iloc[n]))\n",
    "    return min(dists)"
   ]
  },
  {
   "cell_type": "code",
   "execution_count": 332,
   "metadata": {},
   "outputs": [
    {
     "data": {
      "text/plain": [
       "5436361"
      ]
     },
     "execution_count": 332,
     "metadata": {},
     "output_type": "execute_result"
    }
   ],
   "source": [
    "distance_to_closest_neighbor(x.iloc[0], x[:100][y_pred_test != 0])"
   ]
  },
  {
   "cell_type": "code",
   "execution_count": 342,
   "metadata": {},
   "outputs": [],
   "source": [
    "def assemble_min_distances(X, y_pred, n_to_return):\n",
    "    min_dists = []\n",
    "    for n in range(0,len(X)):\n",
    "        point = X.iloc[n]\n",
    "        df = X[y_pred != y_pred[n]]\n",
    "        min_dists.append((n,distance_to_closest_neighbor(point, df)))\n",
    "    min_dists.sort(key = lambda x: x[1])\n",
    "    return [x[0] for x in min_dists[:n_to_return]]"
   ]
  },
  {
   "cell_type": "markdown",
   "metadata": {},
   "source": [
    "This takes way too long to go through long arrays. It really ought to be vectorized. Below follows a demonstration of how the time savings through a simple vectorization through numpy:"
   ]
  },
  {
   "cell_type": "code",
   "execution_count": 409,
   "metadata": {
    "scrolled": true
   },
   "outputs": [
    {
     "name": "stdout",
     "output_type": "stream",
     "text": [
      "4.28098201751709\n"
     ]
    }
   ],
   "source": [
    "import time\n",
    "start_time = time.time()\n",
    "assemble_min_distances(x[:20], y_pred_test[:20],5)\n",
    "print(time.time() - start_time)"
   ]
  },
  {
   "cell_type": "code",
   "execution_count": 410,
   "metadata": {},
   "outputs": [
    {
     "data": {
      "text/plain": [
       "[7, 13, 5, 16, 18]"
      ]
     },
     "execution_count": 410,
     "metadata": {},
     "output_type": "execute_result"
    }
   ],
   "source": [
    "assemble_min_distances(x[:20], y_pred_test[:20],5)"
   ]
  },
  {
   "cell_type": "code",
   "execution_count": 402,
   "metadata": {},
   "outputs": [],
   "source": [
    "def alt_min_distances(X, y_pred, n_to_return):\n",
    "    min_dists = []\n",
    "    for n in range(0,len(X)):\n",
    "        point = np.asarray(X.iloc[n])\n",
    "        array = np.asanyarray(X[y_pred != y_pred[n]])\n",
    "        dist_2 = np.sum((array - point)**2, axis=1)\n",
    "        min_dists.append((n, min(dist_2)))\n",
    "        min_dists.sort(key = lambda x: x[1])\n",
    "    return [x[0] for x in min_dists[:n_to_return]]"
   ]
  },
  {
   "cell_type": "code",
   "execution_count": 411,
   "metadata": {
    "scrolled": true
   },
   "outputs": [
    {
     "name": "stdout",
     "output_type": "stream",
     "text": [
      "0.015544891357421875\n"
     ]
    }
   ],
   "source": [
    "start_time = time.time()\n",
    "alt_min_distances(x[:20], y_pred_test[:20],5)\n",
    "print(time.time() -start_time)"
   ]
  },
  {
   "cell_type": "code",
   "execution_count": 412,
   "metadata": {},
   "outputs": [
    {
     "data": {
      "text/plain": [
       "[7, 13, 5, 16, 18]"
      ]
     },
     "execution_count": 412,
     "metadata": {},
     "output_type": "execute_result"
    }
   ],
   "source": [
    "alt_min_distances(x[:20], y_pred_test[:20],5)"
   ]
  },
  {
   "cell_type": "markdown",
   "metadata": {},
   "source": [
    "This still takes way too long to run local in a meaningful way. So, I've created an alternate version of the sample function. This one checks if there are more than 5,000 rows, and if so does the following:\n",
    "1. creats a sample pool, which is a random selection of those rows\n",
    "2. uses the distance to decision boundary to select points out of this sample pool (thereby greatly reducing the number of comparitive loops)\n",
    "3. updates the model as per usual\n",
    "4. dumps the utilized points\n",
    "5. merges what's left of the sample pool with the rest of the dataframe"
   ]
  },
  {
   "cell_type": "code",
   "execution_count": null,
   "metadata": {},
   "outputs": [],
   "source": [
    "# def sample_from_dist_to_boundary(X,y,n_sample,model):\n",
    "\n",
    "#     y_pred = model.predict(X)\n",
    "    \n",
    "#     sample_indices = alt_min_distances(X, y_pred, n_sample)\n",
    "#     X_sample = X.iloc[sample_indices]\n",
    "#     y_sample = y.iloc[sample_indices]\n",
    "#     X.drop(X.index[sample_indices],inplace=True)\n",
    "#     y.drop(y.index[sample_indices],inplace=True)\n",
    "\n",
    "#     return X_sample, y_sample, X, y"
   ]
  },
  {
   "cell_type": "code",
   "execution_count": 427,
   "metadata": {},
   "outputs": [],
   "source": [
    "def sample_from_dist_to_boundary(X,y,n_sample,model):    \n",
    "    length = len(X)\n",
    "    if length > 5000:\n",
    "        temp_indices = np.random.choice(len(X),5000, replace=False)\n",
    "        sample_pool = X.iloc[temp_indices]\n",
    "        sample_pool_y = y.iloc[temp_indices]\n",
    "        X.drop(X.index[temp_indices],inplace=True)\n",
    "        y.drop(y.index[temp_indices],inplace=True)\n",
    "    else:\n",
    "        sample_pool = X\n",
    "        sample_pool_y = y\n",
    "    \n",
    "    y_pred = model.predict(sample_pool)\n",
    "    \n",
    "    sample_indices = alt_min_distances(sample_pool, y_pred, n_sample)\n",
    "    X_sample = sample_pool.iloc[sample_indices]\n",
    "    y_sample = sample_pool_y.iloc[sample_indices]\n",
    "    sample_pool.drop(sample_pool.index[sample_indices],inplace=True)\n",
    "    sample_pool_y.drop(sample_pool_y.index[sample_indices],inplace=True)\n",
    "    \n",
    "    if length > 5000:\n",
    "        X = pd.concat([X,sample_pool])\n",
    "        y = pd.concat([y,sample_pool_y])\n",
    "    else:\n",
    "        X = sample_pool\n",
    "        y = sample_pool_y\n",
    "\n",
    "    return X_sample, y_sample, X, y"
   ]
  },
  {
   "cell_type": "code",
   "execution_count": 414,
   "metadata": {},
   "outputs": [],
   "source": [
    "y_pred_test_2 = mlp.predict(x[:10000])"
   ]
  },
  {
   "cell_type": "code",
   "execution_count": 415,
   "metadata": {},
   "outputs": [
    {
     "name": "stdout",
     "output_type": "stream",
     "text": [
      "492.6853380203247\n"
     ]
    }
   ],
   "source": [
    "start_time = time.time()\n",
    "alt_min_distances(x[:10000], y_pred_test_2,5)\n",
    "print(time.time() -start_time)"
   ]
  },
  {
   "cell_type": "code",
   "execution_count": null,
   "metadata": {},
   "outputs": [],
   "source": []
  },
  {
   "cell_type": "code",
   "execution_count": 428,
   "metadata": {},
   "outputs": [
    {
     "name": "stderr",
     "output_type": "stream",
     "text": [
      "/anaconda3/lib/python3.7/site-packages/pandas/core/frame.py:3697: SettingWithCopyWarning: \n",
      "A value is trying to be set on a copy of a slice from a DataFrame\n",
      "\n",
      "See the caveats in the documentation: http://pandas.pydata.org/pandas-docs/stable/indexing.html#indexing-view-versus-copy\n",
      "  errors=errors)\n"
     ]
    },
    {
     "name": "stdout",
     "output_type": "stream",
     "text": [
      "125.75012993812561\n"
     ]
    }
   ],
   "source": [
    "start_time = time.time()\n",
    "X_sample, y_sample, X, y = sample_from_dist_to_boundary(x,y,20,mlp)\n",
    "print(time.time() -start_time)"
   ]
  },
  {
   "cell_type": "code",
   "execution_count": null,
   "metadata": {},
   "outputs": [],
   "source": []
  },
  {
   "cell_type": "code",
   "execution_count": 417,
   "metadata": {},
   "outputs": [],
   "source": [
    "def mlp_active_dist_to_boundary(X,y,n_start,n_step,n_test):\n",
    "    X_test,y_test,x,y = sample_df_updates(X,y,n_test)\n",
    "    mlp = MLPClassifier(hidden_layer_sizes=(300,300))\n",
    "    X_sample, y_sample, X, y = sample_df_updates(X,y,n_start)\n",
    "    mlp.fit(X_sample,y_sample)\n",
    "    y_pred = mlp.predict(X_test)\n",
    "    accuracy = accuracy_score(y_pred,y_test)\n",
    "    sample_count = n_start\n",
    "    sample_count_list = [sample_count]\n",
    "    accuracies = [accuracy]\n",
    "    \n",
    "    searching = True\n",
    "    \n",
    "    while searching == True:\n",
    "        sample_n = 1\n",
    "        start_time = time.time()\n",
    "        \n",
    "        X_temp, y_temp, X, y = sample_from_dist_to_boundary(X,y,n_step,mlp)\n",
    "        \n",
    "        mlp = MLPClassifier(hidden_layer_sizes=(300,300),warm_start=True)\n",
    "        \n",
    "        X_sample = pd.concat([X_sample,X_temp])\n",
    "        y_sample = pd.concat([y_sample,y_temp])\n",
    "        mlp.fit(X_sample,y_sample)\n",
    "        y_pred = mlp.predict(X_test)\n",
    "        accuracy = accuracy_score(y_pred,y_test)\n",
    "        sample_count += n_step\n",
    "        accuracies.append(accuracy)\n",
    "        sample_count_list.append(sample_count)\n",
    "        print(f'sample {sample_n}, accuracy {accuracy} -- time : {time.time()-start_time}')\n",
    "        n +=1\n",
    "        if accuracy >.85:\n",
    "            searching = False\n",
    "        \n",
    "    print(f'Final samples : {sample_count}')\n",
    "    print(f'Final accuracy : {accuracy}')\n",
    "    plt.plot(sample_count_list,accuracies)"
   ]
  },
  {
   "cell_type": "code",
   "execution_count": 432,
   "metadata": {},
   "outputs": [],
   "source": [
    "mnist = pd.read_csv('mnist_train.csv')\n",
    "mnist.rename({'5':'label'},axis=1,inplace=True)\n",
    "y = mnist['label']\n",
    "x = mnist.drop('label', axis=1)"
   ]
  },
  {
   "cell_type": "code",
   "execution_count": 430,
   "metadata": {
    "scrolled": false
   },
   "outputs": [
    {
     "name": "stderr",
     "output_type": "stream",
     "text": [
      "/anaconda3/lib/python3.7/site-packages/pandas/core/frame.py:3697: SettingWithCopyWarning: \n",
      "A value is trying to be set on a copy of a slice from a DataFrame\n",
      "\n",
      "See the caveats in the documentation: http://pandas.pydata.org/pandas-docs/stable/indexing.html#indexing-view-versus-copy\n",
      "  errors=errors)\n"
     ]
    },
    {
     "name": "stdout",
     "output_type": "stream",
     "text": [
      "sample 1, accuracy 0.82775 -- time : 124.92428708076477\n"
     ]
    },
    {
     "name": "stderr",
     "output_type": "stream",
     "text": [
      "/anaconda3/lib/python3.7/site-packages/pandas/core/frame.py:3697: SettingWithCopyWarning: \n",
      "A value is trying to be set on a copy of a slice from a DataFrame\n",
      "\n",
      "See the caveats in the documentation: http://pandas.pydata.org/pandas-docs/stable/indexing.html#indexing-view-versus-copy\n",
      "  errors=errors)\n"
     ]
    },
    {
     "name": "stdout",
     "output_type": "stream",
     "text": [
      "sample 1, accuracy 0.83425 -- time : 127.1889111995697\n"
     ]
    },
    {
     "name": "stderr",
     "output_type": "stream",
     "text": [
      "/anaconda3/lib/python3.7/site-packages/pandas/core/frame.py:3697: SettingWithCopyWarning: \n",
      "A value is trying to be set on a copy of a slice from a DataFrame\n",
      "\n",
      "See the caveats in the documentation: http://pandas.pydata.org/pandas-docs/stable/indexing.html#indexing-view-versus-copy\n",
      "  errors=errors)\n"
     ]
    },
    {
     "name": "stdout",
     "output_type": "stream",
     "text": [
      "sample 1, accuracy 0.84925 -- time : 133.44353199005127\n"
     ]
    },
    {
     "name": "stderr",
     "output_type": "stream",
     "text": [
      "/anaconda3/lib/python3.7/site-packages/pandas/core/frame.py:3697: SettingWithCopyWarning: \n",
      "A value is trying to be set on a copy of a slice from a DataFrame\n",
      "\n",
      "See the caveats in the documentation: http://pandas.pydata.org/pandas-docs/stable/indexing.html#indexing-view-versus-copy\n",
      "  errors=errors)\n"
     ]
    },
    {
     "name": "stdout",
     "output_type": "stream",
     "text": [
      "sample 1, accuracy 0.83825 -- time : 135.02302289009094\n"
     ]
    },
    {
     "name": "stderr",
     "output_type": "stream",
     "text": [
      "/anaconda3/lib/python3.7/site-packages/pandas/core/frame.py:3697: SettingWithCopyWarning: \n",
      "A value is trying to be set on a copy of a slice from a DataFrame\n",
      "\n",
      "See the caveats in the documentation: http://pandas.pydata.org/pandas-docs/stable/indexing.html#indexing-view-versus-copy\n",
      "  errors=errors)\n"
     ]
    },
    {
     "name": "stdout",
     "output_type": "stream",
     "text": [
      "sample 1, accuracy 0.85775 -- time : 123.71493363380432\n",
      "Final samples : 3000\n",
      "Final accuracy : 0.85775\n"
     ]
    },
    {
     "data": {
      "image/png": "[encoded data removed]",
      "text/plain": [
       "<Figure size 432x288 with 1 Axes>"
      ]
     },
     "metadata": {
      "needs_background": "light"
     },
     "output_type": "display_data"
    }
   ],
   "source": [
    "mlp_active_dist_to_boundary(x,y,500,500,4000)"
   ]
  },
  {
   "cell_type": "code",
   "execution_count": 48,
   "metadata": {},
   "outputs": [
    {
     "data": {
      "text/plain": [
       "MLPClassifier(activation='relu', alpha=0.0001, batch_size='auto', beta_1=0.9,\n",
       "       beta_2=0.999, early_stopping=False, epsilon=1e-08,\n",
       "       hidden_layer_sizes=(300, 300), learning_rate='constant',\n",
       "       learning_rate_init=0.001, max_iter=200, momentum=0.9,\n",
       "       n_iter_no_change=10, nesterovs_momentum=True, power_t=0.5,\n",
       "       random_state=None, shuffle=True, solver='adam', tol=0.0001,\n",
       "       validation_fraction=0.1, verbose=False, warm_start=False)"
      ]
     },
     "execution_count": 48,
     "metadata": {},
     "output_type": "execute_result"
    }
   ],
   "source": [
    "mlp = MLPClassifier(hidden_layer_sizes=(300,300),)\n",
    "mlp.fit(x[:1000],y[:1000])"
   ]
  },
  {
   "cell_type": "code",
   "execution_count": 49,
   "metadata": {},
   "outputs": [
    {
     "name": "stdout",
     "output_type": "stream",
     "text": [
      "0.837930632177203\n"
     ]
    }
   ],
   "source": [
    "y_pred = mlp.predict(x)\n",
    "print(accuracy_score(y,y_pred))"
   ]
  },
  {
   "cell_type": "code",
   "execution_count": 27,
   "metadata": {},
   "outputs": [
    {
     "data": {
      "text/plain": [
       "0.9731973197319732"
      ]
     },
     "execution_count": 27,
     "metadata": {},
     "output_type": "execute_result"
    }
   ],
   "source": [
    "mnist_test = pd.read_csv('mnist_test.csv')\n",
    "mnist_test.rename({'7':'label'},axis=1,inplace=True)\n",
    "test_pred = mlp.predict(mnist_test.drop('label',axis=1))\n",
    "accuracy_score(mnist_test['label'],test_pred)"
   ]
  },
  {
   "cell_type": "code",
   "execution_count": 58,
   "metadata": {},
   "outputs": [],
   "source": [
    "probs = mlp.predict_proba(x[6000:6010])"
   ]
  },
  {
   "cell_type": "code",
   "execution_count": 59,
   "metadata": {},
   "outputs": [
    {
     "name": "stdout",
     "output_type": "stream",
     "text": [
      "1.0\n",
      "1.0\n",
      "1.0\n",
      "0.9999988480328849\n",
      "0.9999999999999998\n",
      "0.6973130610582168\n",
      "0.9999999999997746\n",
      "1.0\n",
      "1.0\n",
      "0.9999993035756932\n"
     ]
    }
   ],
   "source": [
    "for set_ in probs:\n",
    "    print(max(set_))"
   ]
  },
  {
   "cell_type": "code",
   "execution_count": 55,
   "metadata": {},
   "outputs": [
    {
     "name": "stdout",
     "output_type": "stream",
     "text": [
      "9.63164644900617e-82\n",
      "1.0\n",
      "3.084986421018088e-38\n",
      "5.619757387326777e-50\n",
      "1.1975441376348185e-59\n",
      "5.297694258077202e-37\n",
      "3.9463097329598e-66\n",
      "2.990727935990592e-65\n",
      "6.623394843310655e-44\n",
      "1.8803667918308338e-37\n"
     ]
    }
   ],
   "source": [
    "for prob in probs[0]:\n",
    "    print(prob)"
   ]
  },
  {
   "cell_type": "code",
   "execution_count": null,
   "metadata": {},
   "outputs": [],
   "source": []
  },
  {
   "cell_type": "code",
   "execution_count": 106,
   "metadata": {},
   "outputs": [
    {
     "data": {
      "text/html": [
       "<div>\n",
       "<style scoped>\n",
       "    .dataframe tbody tr th:only-of-type {\n",
       "        vertical-align: middle;\n",
       "    }\n",
       "\n",
       "    .dataframe tbody tr th {\n",
       "        vertical-align: top;\n",
       "    }\n",
       "\n",
       "    .dataframe thead th {\n",
       "        text-align: right;\n",
       "    }\n",
       "</style>\n",
       "<table border=\"1\" class=\"dataframe\">\n",
       "  <thead>\n",
       "    <tr style=\"text-align: right;\">\n",
       "      <th></th>\n",
       "      <th>0</th>\n",
       "      <th>0.1</th>\n",
       "      <th>0.2</th>\n",
       "      <th>0.3</th>\n",
       "      <th>0.4</th>\n",
       "      <th>0.5</th>\n",
       "      <th>0.6</th>\n",
       "      <th>0.7</th>\n",
       "      <th>0.8</th>\n",
       "      <th>0.9</th>\n",
       "      <th>...</th>\n",
       "      <th>0.608</th>\n",
       "      <th>0.609</th>\n",
       "      <th>0.610</th>\n",
       "      <th>0.611</th>\n",
       "      <th>0.612</th>\n",
       "      <th>0.613</th>\n",
       "      <th>0.614</th>\n",
       "      <th>0.615</th>\n",
       "      <th>0.616</th>\n",
       "      <th>0.617</th>\n",
       "    </tr>\n",
       "  </thead>\n",
       "  <tbody>\n",
       "    <tr>\n",
       "      <th>6</th>\n",
       "      <td>0</td>\n",
       "      <td>0</td>\n",
       "      <td>0</td>\n",
       "      <td>0</td>\n",
       "      <td>0</td>\n",
       "      <td>0</td>\n",
       "      <td>0</td>\n",
       "      <td>0</td>\n",
       "      <td>0</td>\n",
       "      <td>0</td>\n",
       "      <td>...</td>\n",
       "      <td>0</td>\n",
       "      <td>0</td>\n",
       "      <td>0</td>\n",
       "      <td>0</td>\n",
       "      <td>0</td>\n",
       "      <td>0</td>\n",
       "      <td>0</td>\n",
       "      <td>0</td>\n",
       "      <td>0</td>\n",
       "      <td>0</td>\n",
       "    </tr>\n",
       "    <tr>\n",
       "      <th>7</th>\n",
       "      <td>0</td>\n",
       "      <td>0</td>\n",
       "      <td>0</td>\n",
       "      <td>0</td>\n",
       "      <td>0</td>\n",
       "      <td>0</td>\n",
       "      <td>0</td>\n",
       "      <td>0</td>\n",
       "      <td>0</td>\n",
       "      <td>0</td>\n",
       "      <td>...</td>\n",
       "      <td>0</td>\n",
       "      <td>0</td>\n",
       "      <td>0</td>\n",
       "      <td>0</td>\n",
       "      <td>0</td>\n",
       "      <td>0</td>\n",
       "      <td>0</td>\n",
       "      <td>0</td>\n",
       "      <td>0</td>\n",
       "      <td>0</td>\n",
       "    </tr>\n",
       "    <tr>\n",
       "      <th>0</th>\n",
       "      <td>0</td>\n",
       "      <td>0</td>\n",
       "      <td>0</td>\n",
       "      <td>0</td>\n",
       "      <td>0</td>\n",
       "      <td>0</td>\n",
       "      <td>0</td>\n",
       "      <td>0</td>\n",
       "      <td>0</td>\n",
       "      <td>0</td>\n",
       "      <td>...</td>\n",
       "      <td>0</td>\n",
       "      <td>0</td>\n",
       "      <td>0</td>\n",
       "      <td>0</td>\n",
       "      <td>0</td>\n",
       "      <td>0</td>\n",
       "      <td>0</td>\n",
       "      <td>0</td>\n",
       "      <td>0</td>\n",
       "      <td>0</td>\n",
       "    </tr>\n",
       "  </tbody>\n",
       "</table>\n",
       "<p>3 rows × 784 columns</p>\n",
       "</div>"
      ],
      "text/plain": [
       "   0  0.1  0.2  0.3  0.4  0.5  0.6  0.7  0.8  0.9  ...    0.608  0.609  0.610  \\\n",
       "6  0    0    0    0    0    0    0    0    0    0  ...        0      0      0   \n",
       "7  0    0    0    0    0    0    0    0    0    0  ...        0      0      0   \n",
       "0  0    0    0    0    0    0    0    0    0    0  ...        0      0      0   \n",
       "\n",
       "   0.611  0.612  0.613  0.614  0.615  0.616  0.617  \n",
       "6      0      0      0      0      0      0      0  \n",
       "7      0      0      0      0      0      0      0  \n",
       "0      0      0      0      0      0      0      0  \n",
       "\n",
       "[3 rows x 784 columns]"
      ]
     },
     "execution_count": 106,
     "metadata": {},
     "output_type": "execute_result"
    }
   ],
   "source": [
    "x.loc[indexes]"
   ]
  },
  {
   "cell_type": "code",
   "execution_count": null,
   "metadata": {},
   "outputs": [],
   "source": []
  },
  {
   "cell_type": "code",
   "execution_count": null,
   "metadata": {},
   "outputs": [],
   "source": []
  }
 ],
 "metadata": {
  "kernelspec": {
   "display_name": "Python 3",
   "language": "python",
   "name": "python3"
  },
  "language_info": {
   "codemirror_mode": {
    "name": "ipython",
    "version": 3
   },
   "file_extension": ".py",
   "mimetype": "text/x-python",
   "name": "python",
   "nbconvert_exporter": "python",
   "pygments_lexer": "ipython3",
   "version": "3.7.1"
  }
 },
 "nbformat": 4,
 "nbformat_minor": 2
}
